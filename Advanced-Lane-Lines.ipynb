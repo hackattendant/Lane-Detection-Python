{
 "cells": [
  {
   "cell_type": "markdown",
   "metadata": {},
   "source": [
    "# Advanced Lane Finding\n",
    "## Udacity Self-Driving Car Nanodegree\n",
    "\n",
    "### By Ethan Peacock\n",
    "---\n",
    "\n",
    "### Overview\n",
    "\n",
    "The goal of this project is to write a software pipeline to indentify the lane\n",
    "boundaries in a video with a front-facing camera on a car.  The camera\n",
    "calibration images, test road images, and project videos are available\n",
    "in this project repository:  https://github.com/udacity/CarND-Advanced-Lane-Lines\n",
    "\n",
    "Below is a summary of the techniques used in this project.\n",
    "\n",
    "1. Camera calibration\n",
    "2. Distortion correction\n",
    "3. Color/gradient threshold\n",
    "4. Perspective transform\n",
    "5. Detect lane lines\n",
    "6. Determine the lane curvature\n",
    "\n",
    "---"
   ]
  },
  {
   "cell_type": "code",
   "execution_count": 1,
   "metadata": {
    "collapsed": true
   },
   "outputs": [],
   "source": [
    "# Imports\n",
    "import pickle\n",
    "import glob\n",
    "import numpy as np\n",
    "import cv2\n",
    "import os\n",
    "import matplotlib.pyplot as plt\n",
    "import matplotlib.image as mpimg\n",
    "\n",
    "%matplotlib inline\n",
    "# %matplotlib notebook  #  Enables interactive windows in jupyter notebook"
   ]
  },
  {
   "cell_type": "markdown",
   "metadata": {},
   "source": [
    "### Compute the camera calibration matrix and distortion coefficients"
   ]
  },
  {
   "cell_type": "code",
   "execution_count": 2,
   "metadata": {
    "collapsed": true
   },
   "outputs": [],
   "source": [
    "# # REad in a calibration image\n",
    "# img = mpimg.imread('./camera_cal/calibration2.jpg')\n",
    "# plt.imshow(img)\n",
    "\n",
    "# #  Arrays to store object points and image points from all the images\n",
    "# objpoints = [] # 3D points in real world space\n",
    "# imgpoints = [] # 2D points in image plane\n",
    "\n",
    "# # Prepare object points, like (0,0,0), (1,0,0), (2,0,0), ...., (7,5,0)\n",
    "# nx = 9 # Number of inside corners of x\n",
    "# ny = 6 # Number of inside corners of y\n",
    "\n",
    "# objp = np.zeros((ny*nx,3), np.float32)\n",
    "# objp[:,:2] = np.mgrid[0:nx,0:6].T.reshape(-1,2) # x, y coordinates\n",
    "\n",
    "# # Convert image to grayscale\n",
    "# gray = cv2.cvtColor(img,cv2.COLOR_BGR2GRAY)\n",
    "\n",
    "# # Find the chessboard corners\n",
    "# ret, corners = cv2.findChessboardCorners(gray, (nx, ny), None)\n",
    "\n",
    "\n",
    "# # If corners are found, add object points, image points\n",
    "# if ret == True:\n",
    "#     imgpoints.append(corners)\n",
    "#     objpoints.append(objp)\n",
    "    \n",
    "#     # Draw and display the corners\n",
    "#     img = cv2.drawChessboardCorners(img, (nx, ny), corners, ret)\n",
    "#     plt.imshow(img)"
   ]
  },
  {
   "cell_type": "code",
   "execution_count": 9,
   "metadata": {
    "collapsed": true
   },
   "outputs": [],
   "source": [
    "def cal_undistort(img, objpoints, imgpoints):\n",
    "    ret, mtx, dist, rvecs, tvecs = cv2.calibrateCamera(objpoints, imgpoints, gray.shape[::-1], None, None)\n",
    "    undist = cv2.undistort(img, mtx, dist, None, mtx)\n",
    "    return undist"
   ]
  },
  {
   "cell_type": "code",
   "execution_count": 13,
   "metadata": {},
   "outputs": [],
   "source": [
    "# #  Define name of a picle file\n",
    "# pickle_file = \"wide_dist_pickle.p\"\n",
    "# # Read in and make a list of calibration images\n",
    "# images = glob.glob('./camera_cal/*')\n",
    "\n",
    "# # Arrays to store object points and image points from all the imgaes\n",
    "# objpoints = [] # 3D points in real world space\n",
    "# imgpoints = [] # 2D points in image plane\n",
    "\n",
    "# # Prepare object points, like (0,0,0), (1,0,0), (2,0,0), ...., (7,5,0)\n",
    "# nx = 9 # Number of inside corners of x\n",
    "# ny = 6 # Number of inside corners of y\n",
    "\n",
    "# objp = np.zeros((ny*nx,3), np.float32)\n",
    "# objp[:,:2] = np.mgrid[0:nx,0:6].T.reshape(-1,2) # x, y coordinates\n",
    "\n",
    "# for fname in images:\n",
    "#     # Read in each image\n",
    "#     img = mpimg.imread(fname)\n",
    "#     # Convert image to grayscale\n",
    "#     gray = cv2.cvtColor(img,cv2.COLOR_BGR2GRAY)\n",
    "#     # Find the chessboard corners\n",
    "#     ret, corners = cv2.findChessboardCorners(gray, (nx, ny), None)\n",
    "    \n",
    "    \n",
    "#     # If corners are found, add object points, image points\n",
    "#     if ret == True:\n",
    "#         print(fname)\n",
    "#         imgpoints.append(corners)\n",
    "#         objpoints.append(objp)\n",
    "\n",
    "#         # Draw and display the corners\n",
    "#         img = cv2.drawChessboardCorners(img, (nx, ny), corners, ret)\n",
    "#         plt.imshow(img)\n",
    "\n",
    "\n",
    "# # Save camera calibration result for later use in pickle file    \n",
    "# dist_pickle = {}\n",
    "# dist_pickle['objpoints'] = objpoints\n",
    "# dist_pickle['imgpoints'] = imgpoints\n",
    "# pickle.dump(dist_pickle, open(pickle_file, 'wb'))"
   ]
  },
  {
   "cell_type": "code",
   "execution_count": null,
   "metadata": {
    "collapsed": true
   },
   "outputs": [],
   "source": []
  },
  {
   "cell_type": "code",
   "execution_count": null,
   "metadata": {
    "collapsed": true
   },
   "outputs": [],
   "source": []
  }
 ],
 "metadata": {
  "kernelspec": {
   "display_name": "Python 3",
   "language": "python",
   "name": "python3"
  },
  "language_info": {
   "codemirror_mode": {
    "name": "ipython",
    "version": 3
   },
   "file_extension": ".py",
   "mimetype": "text/x-python",
   "name": "python",
   "nbconvert_exporter": "python",
   "pygments_lexer": "ipython3",
   "version": "3.5.2"
  }
 },
 "nbformat": 4,
 "nbformat_minor": 2
}
